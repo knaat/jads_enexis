{
 "cells": [
  {
   "cell_type": "code",
   "execution_count": 1,
   "id": "meaning-experience",
   "metadata": {},
   "outputs": [],
   "source": [
    "import pandas as pd\n",
    "import numpy as np\n",
    "import os"
   ]
  },
  {
   "cell_type": "code",
   "execution_count": 2,
   "id": "coordinated-blues",
   "metadata": {},
   "outputs": [],
   "source": [
    "# variables used in script"
   ]
  },
  {
   "cell_type": "code",
   "execution_count": 3,
   "id": "ongoing-engine",
   "metadata": {},
   "outputs": [],
   "source": [
    "# show all columns in the dataframe\n",
    "pd.set_option('max_columns', None)"
   ]
  },
  {
   "cell_type": "markdown",
   "id": "cordless-graduation",
   "metadata": {},
   "source": [
    "### Enexis Kleinverbruikgegevens dataset\n",
    "https://www.enexis.nl/over-ons/wat-bieden-we/andere-diensten/open-data \n"
   ]
  },
  {
   "cell_type": "code",
   "execution_count": null,
   "id": "enclosed-supervisor",
   "metadata": {},
   "outputs": [],
   "source": []
  }
 ],
 "metadata": {
  "kernelspec": {
   "display_name": "Python [conda env:jads_enexis] *",
   "language": "python",
   "name": "conda-env-jads_enexis-py"
  },
  "language_info": {
   "codemirror_mode": {
    "name": "ipython",
    "version": 3
   },
   "file_extension": ".py",
   "mimetype": "text/x-python",
   "name": "python",
   "nbconvert_exporter": "python",
   "pygments_lexer": "ipython3",
   "version": "3.8.5"
  }
 },
 "nbformat": 4,
 "nbformat_minor": 5
}
