{
 "cells": [
  {
   "cell_type": "markdown",
   "metadata": {},
   "source": [
    "### Om pydeck en qgrid te activeren vanuit cmd en met admin rechten:\n",
    "jupyter nbextension install --sys-prefix --symlink --overwrite --py pydeck\n",
    "\n",
    "jupyter nbextension enable --sys-prefix --py pydeck\n",
    "\n",
    "jupyter nbextension enable --py --sys-prefix qgrid\n",
    "\n",
    "jupyter nbextension enable --py --sys-prefix widgetsnbextension\n",
    "\n",
    "En dan jupyter notebook vanuit zelfde cmd sessie starten met jupyter notebook\n"
   ]
  },
  {
   "cell_type": "code",
   "execution_count": 1,
   "metadata": {},
   "outputs": [],
   "source": [
    "import pydeck as pdk\n",
    "from pydeck import Deck, Layer, ViewState\n",
    "import pandas as pd\n",
    "import os\n",
    "import math\n",
    "import matplotlib.pyplot as plt\n",
    "import seaborn as sns\n",
    "\n",
    "from IPython.core.display import display\n",
    "import ipywidgets\n",
    "import time\n",
    "import datetime\n",
    "\n",
    "import qgrid"
   ]
  },
  {
   "cell_type": "code",
   "execution_count": 2,
   "metadata": {},
   "outputs": [],
   "source": [
    "# path to Data folder\n",
    "DATA = '../data'\n",
    "\n",
    "# path to Models folder\n",
    "MODELS = '../models'\n",
    "\n",
    "# path to Notebooks folder\n",
    "NOTEBOOKS = '../notebooks'"
   ]
  },
  {
   "cell_type": "code",
   "execution_count": 3,
   "metadata": {},
   "outputs": [],
   "source": [
    "# set mapbox key\n",
    "os.environ[\"MAPBOX_API_KEY\"] = 'pk.eyJ1IjoibWFyY2Vsa29vbHdpamsiLCJhIjoiY2trYmJqMWdrMDV2ZzJ3cGFxcTB2b2Y0YSJ9.MwGGloXOVwW4QUViVsa02A'"
   ]
  },
  {
   "cell_type": "code",
   "execution_count": 4,
   "metadata": {},
   "outputs": [],
   "source": [
    "# change seaborn figure size\n",
    "sns.set(rc={\"figure.figsize\": (12, 8)})"
   ]
  },
  {
   "cell_type": "code",
   "execution_count": 5,
   "metadata": {},
   "outputs": [],
   "source": [
    "# read meerdere files voor meerdere jaren\n",
    "files = ['Enexis_kleinverbruiksgegevens_01012010.csv',\n",
    "         'Enexis_kleinverbruiksgegevens_01012011.csv',\n",
    "         'Enexis_kleinverbruiksgegevens_01012012.csv',\n",
    "         'Enexis_kleinverbruiksgegevens_01012013.csv',\n",
    "         'Enexis_kleinverbruiksgegevens_01012014.csv',\n",
    "         'Enexis_kleinverbruiksgegevens_01012015.csv',\n",
    "         'Enexis_kleinverbruiksgegevens_01012016.csv',\n",
    "         'Enexis_kleinverbruiksgegevens_01012017.csv',\n",
    "         'Enexis_kleinverbruiksgegevens_01012018.csv',\n",
    "         'Enexis_kleinverbruiksgegevens_01012019.csv',\n",
    "         'Enexis_kleinverbruiksgegevens_01012020.csv'\n",
    "        ]"
   ]
  },
  {
   "cell_type": "code",
   "execution_count": 6,
   "metadata": {},
   "outputs": [
    {
     "name": "stdout",
     "output_type": "stream",
     "text": [
      "Enexis_kleinverbruiksgegevens_01012010.csv\n",
      "Enexis_kleinverbruiksgegevens_01012011.csv\n",
      "Enexis_kleinverbruiksgegevens_01012012.csv\n",
      "Enexis_kleinverbruiksgegevens_01012013.csv\n",
      "Enexis_kleinverbruiksgegevens_01012014.csv\n",
      "Enexis_kleinverbruiksgegevens_01012015.csv\n",
      "Enexis_kleinverbruiksgegevens_01012016.csv\n",
      "Enexis_kleinverbruiksgegevens_01012017.csv\n",
      "Enexis_kleinverbruiksgegevens_01012018.csv\n",
      "Enexis_kleinverbruiksgegevens_01012019.csv\n",
      "Enexis_kleinverbruiksgegevens_01012020.csv\n"
     ]
    }
   ],
   "source": [
    "df = pd.DataFrame()\n",
    "for j in files:\n",
    "    print(j)\n",
    "    appenddata = pd.read_csv(os.path.join(DATA, j), sep=';', thousands='.', decimal=',',  encoding= 'unicode_escape')\n",
    "    #appenddata['DATE'] = pd.to_datetime(j[-12:-4], format='%d%m%Y', errors='ignore')\n",
    "    appenddata['YEAR'] = j[-8:-4]\n",
    "    df = df.append(appenddata,ignore_index=True)"
   ]
  },
  {
   "cell_type": "code",
   "execution_count": 7,
   "metadata": {},
   "outputs": [
    {
     "data": {
      "text/html": [
       "<div>\n",
       "<style scoped>\n",
       "    .dataframe tbody tr th:only-of-type {\n",
       "        vertical-align: middle;\n",
       "    }\n",
       "\n",
       "    .dataframe tbody tr th {\n",
       "        vertical-align: top;\n",
       "    }\n",
       "\n",
       "    .dataframe thead th {\n",
       "        text-align: right;\n",
       "    }\n",
       "</style>\n",
       "<table border=\"1\" class=\"dataframe\">\n",
       "  <thead>\n",
       "    <tr style=\"text-align: right;\">\n",
       "      <th></th>\n",
       "      <th>NETBEHEERDER</th>\n",
       "      <th>NETGEBIED</th>\n",
       "      <th>STRAATNAAM</th>\n",
       "      <th>POSTCODE_VAN</th>\n",
       "      <th>POSTCODE_TOT</th>\n",
       "      <th>WOONPLAATS</th>\n",
       "      <th>LANDCODE</th>\n",
       "      <th>PRODUCTSOORT</th>\n",
       "      <th>VERBRUIKSSEGMENT</th>\n",
       "      <th>LEVERINGSRICHTING_PERC</th>\n",
       "      <th>AANSLUITINGEN_AANTAL</th>\n",
       "      <th>FYSIEKE_STATUS_PERC</th>\n",
       "      <th>SOORT_AANSLUITING_PERC</th>\n",
       "      <th>SOORT_AANSLUITING</th>\n",
       "      <th>SJV_GEMIDDELD</th>\n",
       "      <th>SJV_LAAG_TARIEF_PERC</th>\n",
       "      <th>SLIMME_METER_PERC</th>\n",
       "      <th>YEAR</th>\n",
       "    </tr>\n",
       "  </thead>\n",
       "  <tbody>\n",
       "    <tr>\n",
       "      <th>0</th>\n",
       "      <td>Enexis B.V.</td>\n",
       "      <td>ENEXIS</td>\n",
       "      <td>Sasdijk</td>\n",
       "      <td>4251AB</td>\n",
       "      <td>4251AB</td>\n",
       "      <td>WERKENDAM</td>\n",
       "      <td>NL</td>\n",
       "      <td>ELK</td>\n",
       "      <td>KVB</td>\n",
       "      <td>100.0</td>\n",
       "      <td>16</td>\n",
       "      <td>100</td>\n",
       "      <td>NaN</td>\n",
       "      <td>NaN</td>\n",
       "      <td>4282.0</td>\n",
       "      <td>25.0</td>\n",
       "      <td>0.0</td>\n",
       "      <td>2010</td>\n",
       "    </tr>\n",
       "    <tr>\n",
       "      <th>1</th>\n",
       "      <td>Enexis B.V.</td>\n",
       "      <td>ENEXIS</td>\n",
       "      <td>Sasdijk</td>\n",
       "      <td>4251AC</td>\n",
       "      <td>4251AC</td>\n",
       "      <td>WERKENDAM</td>\n",
       "      <td>NL</td>\n",
       "      <td>ELK</td>\n",
       "      <td>KVB</td>\n",
       "      <td>100.0</td>\n",
       "      <td>11</td>\n",
       "      <td>100</td>\n",
       "      <td>NaN</td>\n",
       "      <td>NaN</td>\n",
       "      <td>5113.0</td>\n",
       "      <td>10.0</td>\n",
       "      <td>0.0</td>\n",
       "      <td>2010</td>\n",
       "    </tr>\n",
       "    <tr>\n",
       "      <th>2</th>\n",
       "      <td>Enexis B.V.</td>\n",
       "      <td>ENEXIS</td>\n",
       "      <td>Sasdijk</td>\n",
       "      <td>4251AD</td>\n",
       "      <td>4251AD</td>\n",
       "      <td>WERKENDAM</td>\n",
       "      <td>NL</td>\n",
       "      <td>ELK</td>\n",
       "      <td>KVB</td>\n",
       "      <td>100.0</td>\n",
       "      <td>30</td>\n",
       "      <td>100</td>\n",
       "      <td>NaN</td>\n",
       "      <td>NaN</td>\n",
       "      <td>4809.0</td>\n",
       "      <td>34.0</td>\n",
       "      <td>0.0</td>\n",
       "      <td>2010</td>\n",
       "    </tr>\n",
       "    <tr>\n",
       "      <th>3</th>\n",
       "      <td>Enexis B.V.</td>\n",
       "      <td>ENEXIS</td>\n",
       "      <td>Nieuweweg</td>\n",
       "      <td>4251AE</td>\n",
       "      <td>4251AG</td>\n",
       "      <td>WERKENDAM</td>\n",
       "      <td>NL</td>\n",
       "      <td>ELK</td>\n",
       "      <td>KVB</td>\n",
       "      <td>100.0</td>\n",
       "      <td>21</td>\n",
       "      <td>100</td>\n",
       "      <td>NaN</td>\n",
       "      <td>NaN</td>\n",
       "      <td>5015.0</td>\n",
       "      <td>44.0</td>\n",
       "      <td>0.0</td>\n",
       "      <td>2010</td>\n",
       "    </tr>\n",
       "    <tr>\n",
       "      <th>4</th>\n",
       "      <td>Enexis B.V.</td>\n",
       "      <td>ENEXIS</td>\n",
       "      <td>Koppenhof</td>\n",
       "      <td>4251AH</td>\n",
       "      <td>4251AH</td>\n",
       "      <td>WERKENDAM</td>\n",
       "      <td>NL</td>\n",
       "      <td>ELK</td>\n",
       "      <td>KVB</td>\n",
       "      <td>100.0</td>\n",
       "      <td>12</td>\n",
       "      <td>100</td>\n",
       "      <td>NaN</td>\n",
       "      <td>NaN</td>\n",
       "      <td>3074.0</td>\n",
       "      <td>22.0</td>\n",
       "      <td>0.0</td>\n",
       "      <td>2010</td>\n",
       "    </tr>\n",
       "  </tbody>\n",
       "</table>\n",
       "</div>"
      ],
      "text/plain": [
       "  NETBEHEERDER NETGEBIED STRAATNAAM POSTCODE_VAN POSTCODE_TOT WOONPLAATS  \\\n",
       "0  Enexis B.V.    ENEXIS    Sasdijk       4251AB       4251AB  WERKENDAM   \n",
       "1  Enexis B.V.    ENEXIS    Sasdijk       4251AC       4251AC  WERKENDAM   \n",
       "2  Enexis B.V.    ENEXIS    Sasdijk       4251AD       4251AD  WERKENDAM   \n",
       "3  Enexis B.V.    ENEXIS  Nieuweweg       4251AE       4251AG  WERKENDAM   \n",
       "4  Enexis B.V.    ENEXIS  Koppenhof       4251AH       4251AH  WERKENDAM   \n",
       "\n",
       "  LANDCODE PRODUCTSOORT VERBRUIKSSEGMENT  LEVERINGSRICHTING_PERC  \\\n",
       "0       NL          ELK              KVB                   100.0   \n",
       "1       NL          ELK              KVB                   100.0   \n",
       "2       NL          ELK              KVB                   100.0   \n",
       "3       NL          ELK              KVB                   100.0   \n",
       "4       NL          ELK              KVB                   100.0   \n",
       "\n",
       "   AANSLUITINGEN_AANTAL  FYSIEKE_STATUS_PERC  SOORT_AANSLUITING_PERC  \\\n",
       "0                    16                  100                     NaN   \n",
       "1                    11                  100                     NaN   \n",
       "2                    30                  100                     NaN   \n",
       "3                    21                  100                     NaN   \n",
       "4                    12                  100                     NaN   \n",
       "\n",
       "  SOORT_AANSLUITING  SJV_GEMIDDELD  SJV_LAAG_TARIEF_PERC  SLIMME_METER_PERC  \\\n",
       "0               NaN         4282.0                  25.0                0.0   \n",
       "1               NaN         5113.0                  10.0                0.0   \n",
       "2               NaN         4809.0                  34.0                0.0   \n",
       "3               NaN         5015.0                  44.0                0.0   \n",
       "4               NaN         3074.0                  22.0                0.0   \n",
       "\n",
       "   YEAR  \n",
       "0  2010  \n",
       "1  2010  \n",
       "2  2010  \n",
       "3  2010  \n",
       "4  2010  "
      ]
     },
     "execution_count": 7,
     "metadata": {},
     "output_type": "execute_result"
    }
   ],
   "source": [
    "df.head()"
   ]
  },
  {
   "cell_type": "code",
   "execution_count": 8,
   "metadata": {},
   "outputs": [],
   "source": [
    "# filter op elektriciteit\n",
    "df = df[df['PRODUCTSOORT'] == 'ELK']"
   ]
  },
  {
   "cell_type": "code",
   "execution_count": 9,
   "metadata": {},
   "outputs": [],
   "source": [
    "# numerieke deel van de postcode\n",
    "df['PC4'] = df['POSTCODE_VAN'].astype(str).str[0:4]"
   ]
  },
  {
   "cell_type": "code",
   "execution_count": 10,
   "metadata": {},
   "outputs": [],
   "source": [
    "df['SJV_TOTAAL'] = round(df['AANSLUITINGEN_AANTAL'] * df['SJV_GEMIDDELD'] / 1000) # delen door 1000 om MW ipv KW te krijgen"
   ]
  },
  {
   "cell_type": "code",
   "execution_count": 11,
   "metadata": {},
   "outputs": [
    {
     "data": {
      "text/html": [
       "<div>\n",
       "<style scoped>\n",
       "    .dataframe tbody tr th:only-of-type {\n",
       "        vertical-align: middle;\n",
       "    }\n",
       "\n",
       "    .dataframe tbody tr th {\n",
       "        vertical-align: top;\n",
       "    }\n",
       "\n",
       "    .dataframe thead th {\n",
       "        text-align: right;\n",
       "    }\n",
       "</style>\n",
       "<table border=\"1\" class=\"dataframe\">\n",
       "  <thead>\n",
       "    <tr style=\"text-align: right;\">\n",
       "      <th></th>\n",
       "      <th>NETBEHEERDER</th>\n",
       "      <th>NETGEBIED</th>\n",
       "      <th>STRAATNAAM</th>\n",
       "      <th>POSTCODE_VAN</th>\n",
       "      <th>POSTCODE_TOT</th>\n",
       "      <th>WOONPLAATS</th>\n",
       "      <th>LANDCODE</th>\n",
       "      <th>PRODUCTSOORT</th>\n",
       "      <th>VERBRUIKSSEGMENT</th>\n",
       "      <th>LEVERINGSRICHTING_PERC</th>\n",
       "      <th>AANSLUITINGEN_AANTAL</th>\n",
       "      <th>FYSIEKE_STATUS_PERC</th>\n",
       "      <th>SOORT_AANSLUITING_PERC</th>\n",
       "      <th>SOORT_AANSLUITING</th>\n",
       "      <th>SJV_GEMIDDELD</th>\n",
       "      <th>SJV_LAAG_TARIEF_PERC</th>\n",
       "      <th>SLIMME_METER_PERC</th>\n",
       "      <th>YEAR</th>\n",
       "      <th>PC4</th>\n",
       "      <th>SJV_TOTAAL</th>\n",
       "    </tr>\n",
       "  </thead>\n",
       "  <tbody>\n",
       "    <tr>\n",
       "      <th>0</th>\n",
       "      <td>Enexis B.V.</td>\n",
       "      <td>ENEXIS</td>\n",
       "      <td>Sasdijk</td>\n",
       "      <td>4251AB</td>\n",
       "      <td>4251AB</td>\n",
       "      <td>WERKENDAM</td>\n",
       "      <td>NL</td>\n",
       "      <td>ELK</td>\n",
       "      <td>KVB</td>\n",
       "      <td>100.0</td>\n",
       "      <td>16</td>\n",
       "      <td>100</td>\n",
       "      <td>NaN</td>\n",
       "      <td>NaN</td>\n",
       "      <td>4282.0</td>\n",
       "      <td>25.0</td>\n",
       "      <td>0.0</td>\n",
       "      <td>2010</td>\n",
       "      <td>4251</td>\n",
       "      <td>69.0</td>\n",
       "    </tr>\n",
       "    <tr>\n",
       "      <th>1</th>\n",
       "      <td>Enexis B.V.</td>\n",
       "      <td>ENEXIS</td>\n",
       "      <td>Sasdijk</td>\n",
       "      <td>4251AC</td>\n",
       "      <td>4251AC</td>\n",
       "      <td>WERKENDAM</td>\n",
       "      <td>NL</td>\n",
       "      <td>ELK</td>\n",
       "      <td>KVB</td>\n",
       "      <td>100.0</td>\n",
       "      <td>11</td>\n",
       "      <td>100</td>\n",
       "      <td>NaN</td>\n",
       "      <td>NaN</td>\n",
       "      <td>5113.0</td>\n",
       "      <td>10.0</td>\n",
       "      <td>0.0</td>\n",
       "      <td>2010</td>\n",
       "      <td>4251</td>\n",
       "      <td>56.0</td>\n",
       "    </tr>\n",
       "    <tr>\n",
       "      <th>2</th>\n",
       "      <td>Enexis B.V.</td>\n",
       "      <td>ENEXIS</td>\n",
       "      <td>Sasdijk</td>\n",
       "      <td>4251AD</td>\n",
       "      <td>4251AD</td>\n",
       "      <td>WERKENDAM</td>\n",
       "      <td>NL</td>\n",
       "      <td>ELK</td>\n",
       "      <td>KVB</td>\n",
       "      <td>100.0</td>\n",
       "      <td>30</td>\n",
       "      <td>100</td>\n",
       "      <td>NaN</td>\n",
       "      <td>NaN</td>\n",
       "      <td>4809.0</td>\n",
       "      <td>34.0</td>\n",
       "      <td>0.0</td>\n",
       "      <td>2010</td>\n",
       "      <td>4251</td>\n",
       "      <td>144.0</td>\n",
       "    </tr>\n",
       "    <tr>\n",
       "      <th>3</th>\n",
       "      <td>Enexis B.V.</td>\n",
       "      <td>ENEXIS</td>\n",
       "      <td>Nieuweweg</td>\n",
       "      <td>4251AE</td>\n",
       "      <td>4251AG</td>\n",
       "      <td>WERKENDAM</td>\n",
       "      <td>NL</td>\n",
       "      <td>ELK</td>\n",
       "      <td>KVB</td>\n",
       "      <td>100.0</td>\n",
       "      <td>21</td>\n",
       "      <td>100</td>\n",
       "      <td>NaN</td>\n",
       "      <td>NaN</td>\n",
       "      <td>5015.0</td>\n",
       "      <td>44.0</td>\n",
       "      <td>0.0</td>\n",
       "      <td>2010</td>\n",
       "      <td>4251</td>\n",
       "      <td>105.0</td>\n",
       "    </tr>\n",
       "    <tr>\n",
       "      <th>4</th>\n",
       "      <td>Enexis B.V.</td>\n",
       "      <td>ENEXIS</td>\n",
       "      <td>Koppenhof</td>\n",
       "      <td>4251AH</td>\n",
       "      <td>4251AH</td>\n",
       "      <td>WERKENDAM</td>\n",
       "      <td>NL</td>\n",
       "      <td>ELK</td>\n",
       "      <td>KVB</td>\n",
       "      <td>100.0</td>\n",
       "      <td>12</td>\n",
       "      <td>100</td>\n",
       "      <td>NaN</td>\n",
       "      <td>NaN</td>\n",
       "      <td>3074.0</td>\n",
       "      <td>22.0</td>\n",
       "      <td>0.0</td>\n",
       "      <td>2010</td>\n",
       "      <td>4251</td>\n",
       "      <td>37.0</td>\n",
       "    </tr>\n",
       "  </tbody>\n",
       "</table>\n",
       "</div>"
      ],
      "text/plain": [
       "  NETBEHEERDER NETGEBIED STRAATNAAM POSTCODE_VAN POSTCODE_TOT WOONPLAATS  \\\n",
       "0  Enexis B.V.    ENEXIS    Sasdijk       4251AB       4251AB  WERKENDAM   \n",
       "1  Enexis B.V.    ENEXIS    Sasdijk       4251AC       4251AC  WERKENDAM   \n",
       "2  Enexis B.V.    ENEXIS    Sasdijk       4251AD       4251AD  WERKENDAM   \n",
       "3  Enexis B.V.    ENEXIS  Nieuweweg       4251AE       4251AG  WERKENDAM   \n",
       "4  Enexis B.V.    ENEXIS  Koppenhof       4251AH       4251AH  WERKENDAM   \n",
       "\n",
       "  LANDCODE PRODUCTSOORT VERBRUIKSSEGMENT  LEVERINGSRICHTING_PERC  \\\n",
       "0       NL          ELK              KVB                   100.0   \n",
       "1       NL          ELK              KVB                   100.0   \n",
       "2       NL          ELK              KVB                   100.0   \n",
       "3       NL          ELK              KVB                   100.0   \n",
       "4       NL          ELK              KVB                   100.0   \n",
       "\n",
       "   AANSLUITINGEN_AANTAL  FYSIEKE_STATUS_PERC  SOORT_AANSLUITING_PERC  \\\n",
       "0                    16                  100                     NaN   \n",
       "1                    11                  100                     NaN   \n",
       "2                    30                  100                     NaN   \n",
       "3                    21                  100                     NaN   \n",
       "4                    12                  100                     NaN   \n",
       "\n",
       "  SOORT_AANSLUITING  SJV_GEMIDDELD  SJV_LAAG_TARIEF_PERC  SLIMME_METER_PERC  \\\n",
       "0               NaN         4282.0                  25.0                0.0   \n",
       "1               NaN         5113.0                  10.0                0.0   \n",
       "2               NaN         4809.0                  34.0                0.0   \n",
       "3               NaN         5015.0                  44.0                0.0   \n",
       "4               NaN         3074.0                  22.0                0.0   \n",
       "\n",
       "   YEAR   PC4  SJV_TOTAAL  \n",
       "0  2010  4251        69.0  \n",
       "1  2010  4251        56.0  \n",
       "2  2010  4251       144.0  \n",
       "3  2010  4251       105.0  \n",
       "4  2010  4251        37.0  "
      ]
     },
     "execution_count": 11,
     "metadata": {},
     "output_type": "execute_result"
    }
   ],
   "source": [
    "df.head(5)"
   ]
  },
  {
   "cell_type": "code",
   "execution_count": 12,
   "metadata": {},
   "outputs": [],
   "source": [
    "# group by pc4\n",
    "#df_pc = df.groupby(['PC4','DATE'], as_index=False)['SJV_GEMIDDELD'].mean()\n",
    "df_pc = df.groupby(['PC4','YEAR'], as_index=False)['SJV_TOTAAL'].sum()"
   ]
  },
  {
   "cell_type": "code",
   "execution_count": 13,
   "metadata": {},
   "outputs": [],
   "source": [
    "df_pc['PC4']=df_pc['PC4'].astype(int)"
   ]
  },
  {
   "cell_type": "code",
   "execution_count": 14,
   "metadata": {},
   "outputs": [
    {
     "data": {
      "text/html": [
       "<div>\n",
       "<style scoped>\n",
       "    .dataframe tbody tr th:only-of-type {\n",
       "        vertical-align: middle;\n",
       "    }\n",
       "\n",
       "    .dataframe tbody tr th {\n",
       "        vertical-align: top;\n",
       "    }\n",
       "\n",
       "    .dataframe thead th {\n",
       "        text-align: right;\n",
       "    }\n",
       "</style>\n",
       "<table border=\"1\" class=\"dataframe\">\n",
       "  <thead>\n",
       "    <tr style=\"text-align: right;\">\n",
       "      <th></th>\n",
       "      <th>PC4</th>\n",
       "      <th>YEAR</th>\n",
       "      <th>SJV_TOTAAL</th>\n",
       "    </tr>\n",
       "  </thead>\n",
       "  <tbody>\n",
       "    <tr>\n",
       "      <th>0</th>\n",
       "      <td>4251</td>\n",
       "      <td>2010</td>\n",
       "      <td>21882.0</td>\n",
       "    </tr>\n",
       "    <tr>\n",
       "      <th>1</th>\n",
       "      <td>4251</td>\n",
       "      <td>2011</td>\n",
       "      <td>23084.0</td>\n",
       "    </tr>\n",
       "    <tr>\n",
       "      <th>2</th>\n",
       "      <td>4251</td>\n",
       "      <td>2012</td>\n",
       "      <td>24006.0</td>\n",
       "    </tr>\n",
       "    <tr>\n",
       "      <th>3</th>\n",
       "      <td>4251</td>\n",
       "      <td>2013</td>\n",
       "      <td>23728.0</td>\n",
       "    </tr>\n",
       "    <tr>\n",
       "      <th>4</th>\n",
       "      <td>4251</td>\n",
       "      <td>2014</td>\n",
       "      <td>23623.0</td>\n",
       "    </tr>\n",
       "  </tbody>\n",
       "</table>\n",
       "</div>"
      ],
      "text/plain": [
       "    PC4  YEAR  SJV_TOTAAL\n",
       "0  4251  2010     21882.0\n",
       "1  4251  2011     23084.0\n",
       "2  4251  2012     24006.0\n",
       "3  4251  2013     23728.0\n",
       "4  4251  2014     23623.0"
      ]
     },
     "execution_count": 14,
     "metadata": {},
     "output_type": "execute_result"
    }
   ],
   "source": [
    "df_pc.head()"
   ]
  },
  {
   "cell_type": "code",
   "execution_count": 15,
   "metadata": {},
   "outputs": [],
   "source": [
    "#postcode tabel inlezen\n",
    "file2 = ('postcode4.csv')\n",
    "df_postcode = pd.read_csv(os.path.join(DATA, file2), sep=',', thousands=None, decimal='.',index_col='id')"
   ]
  },
  {
   "cell_type": "code",
   "execution_count": 16,
   "metadata": {},
   "outputs": [
    {
     "data": {
      "text/html": [
       "<div>\n",
       "<style scoped>\n",
       "    .dataframe tbody tr th:only-of-type {\n",
       "        vertical-align: middle;\n",
       "    }\n",
       "\n",
       "    .dataframe tbody tr th {\n",
       "        vertical-align: top;\n",
       "    }\n",
       "\n",
       "    .dataframe thead th {\n",
       "        text-align: right;\n",
       "    }\n",
       "</style>\n",
       "<table border=\"1\" class=\"dataframe\">\n",
       "  <thead>\n",
       "    <tr style=\"text-align: right;\">\n",
       "      <th></th>\n",
       "      <th>postcode</th>\n",
       "      <th>woonplaats</th>\n",
       "      <th>alternatieve_schrijfwijzen</th>\n",
       "      <th>gemeente</th>\n",
       "      <th>provincie</th>\n",
       "      <th>netnummer</th>\n",
       "      <th>latitude</th>\n",
       "      <th>longitude</th>\n",
       "      <th>soort</th>\n",
       "    </tr>\n",
       "    <tr>\n",
       "      <th>id</th>\n",
       "      <th></th>\n",
       "      <th></th>\n",
       "      <th></th>\n",
       "      <th></th>\n",
       "      <th></th>\n",
       "      <th></th>\n",
       "      <th></th>\n",
       "      <th></th>\n",
       "      <th></th>\n",
       "    </tr>\n",
       "  </thead>\n",
       "  <tbody>\n",
       "    <tr>\n",
       "      <th>1</th>\n",
       "      <td>1000</td>\n",
       "      <td>Amsterdam</td>\n",
       "      <td>NaN</td>\n",
       "      <td>Amsterdam</td>\n",
       "      <td>Noord-Holland</td>\n",
       "      <td>20</td>\n",
       "      <td>52.336243</td>\n",
       "      <td>4.869444</td>\n",
       "      <td>Postbus</td>\n",
       "    </tr>\n",
       "    <tr>\n",
       "      <th>2</th>\n",
       "      <td>1001</td>\n",
       "      <td>Amsterdam</td>\n",
       "      <td>NaN</td>\n",
       "      <td>Amsterdam</td>\n",
       "      <td>Noord-Holland</td>\n",
       "      <td>20</td>\n",
       "      <td>52.364240</td>\n",
       "      <td>4.883358</td>\n",
       "      <td>Postbus</td>\n",
       "    </tr>\n",
       "    <tr>\n",
       "      <th>3</th>\n",
       "      <td>1002</td>\n",
       "      <td>Amsterdam</td>\n",
       "      <td>NaN</td>\n",
       "      <td>Amsterdam</td>\n",
       "      <td>Noord-Holland</td>\n",
       "      <td>20</td>\n",
       "      <td>52.364240</td>\n",
       "      <td>4.883358</td>\n",
       "      <td>Onbekend</td>\n",
       "    </tr>\n",
       "    <tr>\n",
       "      <th>4</th>\n",
       "      <td>1003</td>\n",
       "      <td>Amsterdam</td>\n",
       "      <td>NaN</td>\n",
       "      <td>Amsterdam</td>\n",
       "      <td>Noord-Holland</td>\n",
       "      <td>20</td>\n",
       "      <td>52.364240</td>\n",
       "      <td>4.883358</td>\n",
       "      <td>Onbekend</td>\n",
       "    </tr>\n",
       "    <tr>\n",
       "      <th>5</th>\n",
       "      <td>1005</td>\n",
       "      <td>Amsterdam</td>\n",
       "      <td>NaN</td>\n",
       "      <td>Amsterdam</td>\n",
       "      <td>Noord-Holland</td>\n",
       "      <td>20</td>\n",
       "      <td>52.364240</td>\n",
       "      <td>4.883358</td>\n",
       "      <td>Postbus</td>\n",
       "    </tr>\n",
       "  </tbody>\n",
       "</table>\n",
       "</div>"
      ],
      "text/plain": [
       "    postcode woonplaats alternatieve_schrijfwijzen   gemeente      provincie  \\\n",
       "id                                                                             \n",
       "1       1000  Amsterdam                        NaN  Amsterdam  Noord-Holland   \n",
       "2       1001  Amsterdam                        NaN  Amsterdam  Noord-Holland   \n",
       "3       1002  Amsterdam                        NaN  Amsterdam  Noord-Holland   \n",
       "4       1003  Amsterdam                        NaN  Amsterdam  Noord-Holland   \n",
       "5       1005  Amsterdam                        NaN  Amsterdam  Noord-Holland   \n",
       "\n",
       "    netnummer   latitude  longitude     soort  \n",
       "id                                             \n",
       "1          20  52.336243   4.869444   Postbus  \n",
       "2          20  52.364240   4.883358   Postbus  \n",
       "3          20  52.364240   4.883358  Onbekend  \n",
       "4          20  52.364240   4.883358  Onbekend  \n",
       "5          20  52.364240   4.883358   Postbus  "
      ]
     },
     "execution_count": 16,
     "metadata": {},
     "output_type": "execute_result"
    }
   ],
   "source": [
    "df_postcode.head()"
   ]
  },
  {
   "cell_type": "code",
   "execution_count": 17,
   "metadata": {},
   "outputs": [],
   "source": [
    "df_postcode = df_postcode[['postcode','latitude','longitude']]"
   ]
  },
  {
   "cell_type": "code",
   "execution_count": 18,
   "metadata": {},
   "outputs": [],
   "source": [
    "df_postcode.rename(columns = {'postcode': 'PC4', 'latitude': 'LATITUDE', 'longitude': 'LONGITUDE'}, inplace = True)"
   ]
  },
  {
   "cell_type": "code",
   "execution_count": 19,
   "metadata": {},
   "outputs": [],
   "source": [
    "df_total = pd.merge(df_pc, df_postcode, on='PC4',how='left', suffixes=('', '_H'))"
   ]
  },
  {
   "cell_type": "code",
   "execution_count": 20,
   "metadata": {},
   "outputs": [
    {
     "data": {
      "text/html": [
       "<div>\n",
       "<style scoped>\n",
       "    .dataframe tbody tr th:only-of-type {\n",
       "        vertical-align: middle;\n",
       "    }\n",
       "\n",
       "    .dataframe tbody tr th {\n",
       "        vertical-align: top;\n",
       "    }\n",
       "\n",
       "    .dataframe thead th {\n",
       "        text-align: right;\n",
       "    }\n",
       "</style>\n",
       "<table border=\"1\" class=\"dataframe\">\n",
       "  <thead>\n",
       "    <tr style=\"text-align: right;\">\n",
       "      <th></th>\n",
       "      <th>PC4</th>\n",
       "      <th>YEAR</th>\n",
       "      <th>SJV_TOTAAL</th>\n",
       "      <th>LATITUDE</th>\n",
       "      <th>LONGITUDE</th>\n",
       "    </tr>\n",
       "  </thead>\n",
       "  <tbody>\n",
       "    <tr>\n",
       "      <th>0</th>\n",
       "      <td>4251</td>\n",
       "      <td>2010</td>\n",
       "      <td>21882.0</td>\n",
       "      <td>51.808165</td>\n",
       "      <td>4.891848</td>\n",
       "    </tr>\n",
       "    <tr>\n",
       "      <th>1</th>\n",
       "      <td>4251</td>\n",
       "      <td>2011</td>\n",
       "      <td>23084.0</td>\n",
       "      <td>51.808165</td>\n",
       "      <td>4.891848</td>\n",
       "    </tr>\n",
       "    <tr>\n",
       "      <th>2</th>\n",
       "      <td>4251</td>\n",
       "      <td>2012</td>\n",
       "      <td>24006.0</td>\n",
       "      <td>51.808165</td>\n",
       "      <td>4.891848</td>\n",
       "    </tr>\n",
       "    <tr>\n",
       "      <th>3</th>\n",
       "      <td>4251</td>\n",
       "      <td>2013</td>\n",
       "      <td>23728.0</td>\n",
       "      <td>51.808165</td>\n",
       "      <td>4.891848</td>\n",
       "    </tr>\n",
       "    <tr>\n",
       "      <th>4</th>\n",
       "      <td>4251</td>\n",
       "      <td>2014</td>\n",
       "      <td>23623.0</td>\n",
       "      <td>51.808165</td>\n",
       "      <td>4.891848</td>\n",
       "    </tr>\n",
       "  </tbody>\n",
       "</table>\n",
       "</div>"
      ],
      "text/plain": [
       "    PC4  YEAR  SJV_TOTAAL   LATITUDE  LONGITUDE\n",
       "0  4251  2010     21882.0  51.808165   4.891848\n",
       "1  4251  2011     23084.0  51.808165   4.891848\n",
       "2  4251  2012     24006.0  51.808165   4.891848\n",
       "3  4251  2013     23728.0  51.808165   4.891848\n",
       "4  4251  2014     23623.0  51.808165   4.891848"
      ]
     },
     "execution_count": 20,
     "metadata": {},
     "output_type": "execute_result"
    }
   ],
   "source": [
    "df_total.head()"
   ]
  },
  {
   "cell_type": "code",
   "execution_count": 21,
   "metadata": {},
   "outputs": [],
   "source": [
    "# CHECK: niet alle postcodes komen in de postcode tabel voor\n",
    "# VOOR NU DROPNA\n",
    "df_total.dropna(inplace=True)"
   ]
  },
  {
   "cell_type": "code",
   "execution_count": 22,
   "metadata": {},
   "outputs": [],
   "source": [
    "#year = pd.to_datetime('01012010' , format='%d%m%Y', errors='ignore')\n",
    "year = '2020'"
   ]
  },
  {
   "cell_type": "code",
   "execution_count": 23,
   "metadata": {
    "scrolled": false
   },
   "outputs": [
    {
     "data": {
      "application/vnd.jupyter.widget-view+json": {
       "model_id": "70f40636a9d44268902635a02dfc5fe6",
       "version_major": 2,
       "version_minor": 0
      },
      "text/plain": [
       "HTML(value='<h1>2020</h1>')"
      ]
     },
     "metadata": {},
     "output_type": "display_data"
    },
    {
     "data": {
      "application/vnd.jupyter.widget-view+json": {
       "model_id": "53df44ae400b446499cddb8c07fdd343",
       "version_major": 2,
       "version_minor": 0
      },
      "text/plain": [
       "DeckGLWidget(google_maps_key=None, json_input='{\"initialViewState\": {\"bearing\": 0, \"latitude\": 52, \"longitude\"…"
      ]
     },
     "metadata": {},
     "output_type": "display_data"
    }
   ],
   "source": [
    "#https://pydeck.gl/deck.html\n",
    "#https://hub.gke2.mybinder.org/user/uber-deck.gl-wh3i2ltb/tree\n",
    "\n",
    "# Define a layer to display on a map\n",
    "layer = pdk.Layer(\n",
    "    \"ScatterplotLayer\",\n",
    "    df_total[df_total['YEAR'] == year],\n",
    "    pickable=True,\n",
    "    opacity=0.8,\n",
    "    stroked=False,  #lines\n",
    "    filled=True,\n",
    "    radius_scale=10,\n",
    "    radius_min_pixels=2,\n",
    "    radius_max_pixels=100,\n",
    "    line_width_min_pixels=1,\n",
    "    get_position=['LONGITUDE','LATITUDE'],\n",
    "    get_radius='SJV_TOTAAL/150', #50, #\"exits_radius\",  # Radius is given in meters\n",
    "    get_fill_color='[255, 220-SJV_TOTAAL/100, 0]' ,  #'[255, SJV_TOTAAL/100, 255]'  255 is geel, 0 is rood\n",
    "    get_line_color=[0, 0, 0]\n",
    ")\n",
    "\n",
    "# Set the viewport location\n",
    "view_state = pdk.ViewState(\n",
    "    latitude=52, \n",
    "    longitude=6, \n",
    "    zoom=6, \n",
    "    bearing=0, \n",
    "    pitch=0\n",
    ")\n",
    "\n",
    "# Render\n",
    "r = pdk.Deck(\n",
    "    layers=[layer],\n",
    "    initial_view_state=view_state,\n",
    "    map_style='mapbox://styles/mapbox/dark-v9',\n",
    "    tooltip= {\"text\": \"Jaarverbuik: {SJV_TOTAAL} MW\\nJaar: {YEAR}\\nPostcodegebied: {PC4}\"}\n",
    ")\n",
    "\n",
    "#to_html(filename=None, open_browser=False, notebook_display=None, iframe_width='100%', iframe_height=500, as_string=False, offline=False, **kwargs)\n",
    "r.to_html(\n",
    "    filename=\"scatterplot_layer.html\",\n",
    "    open_browser=True,\n",
    "    notebook_display=None,\n",
    "    iframe_width='100%',\n",
    "    #iframe_height=500,\n",
    "    #as_string=False, \n",
    "    #offline=False\n",
    ")\n",
    "\n",
    "# Create an HTML header to display the year\n",
    "display_el = ipywidgets.HTML('<h1>{}</h1>'.format(year))\n",
    "display(display_el)\n",
    "\n",
    "r.show()"
   ]
  },
  {
   "cell_type": "code",
   "execution_count": 24,
   "metadata": {},
   "outputs": [],
   "source": [
    "#https://pydeck.gl/jupyter.html\n",
    "#https://hub.gke2.mybinder.org/user/uber-deck.gl-wh3i2ltb/notebooks/02%20-%20Scatterplots.ipynb\n",
    "for y in range(2010, 2021):\n",
    "    layer.data = df_total[df_total['YEAR'] == str(y)]\n",
    "    # Reset the header to display the year\n",
    "    display_el.value = '<h1>Jaarverbruik in {}</h1>'.format(y)\n",
    "    r.update()\n",
    "    time.sleep(1)"
   ]
  },
  {
   "cell_type": "code",
   "execution_count": 29,
   "metadata": {},
   "outputs": [
    {
     "data": {
      "text/html": [
       "<div>\n",
       "<style scoped>\n",
       "    .dataframe tbody tr th:only-of-type {\n",
       "        vertical-align: middle;\n",
       "    }\n",
       "\n",
       "    .dataframe tbody tr th {\n",
       "        vertical-align: top;\n",
       "    }\n",
       "\n",
       "    .dataframe thead th {\n",
       "        text-align: right;\n",
       "    }\n",
       "</style>\n",
       "<table border=\"1\" class=\"dataframe\">\n",
       "  <thead>\n",
       "    <tr style=\"text-align: right;\">\n",
       "      <th></th>\n",
       "    </tr>\n",
       "  </thead>\n",
       "  <tbody>\n",
       "  </tbody>\n",
       "</table>\n",
       "</div>"
      ],
      "text/plain": [
       "Empty DataFrame\n",
       "Columns: []\n",
       "Index: []"
      ]
     },
     "execution_count": 29,
     "metadata": {},
     "output_type": "execute_result"
    }
   ],
   "source": [
    "pd.DataFrame(r.selected_data)"
   ]
  },
  {
   "cell_type": "code",
   "execution_count": 25,
   "metadata": {},
   "outputs": [
    {
     "data": {
      "application/vnd.jupyter.widget-view+json": {
       "model_id": "a8444d1f95f043009b3d3aa95a80c293",
       "version_major": 2,
       "version_minor": 0
      },
      "text/plain": [
       "HTML(value='<h1>Jaarverbruik in 2020</h1>')"
      ]
     },
     "metadata": {},
     "output_type": "display_data"
    },
    {
     "data": {
      "application/vnd.jupyter.widget-view+json": {
       "model_id": "ae589331c410414a884a6697b7067dfc",
       "version_major": 2,
       "version_minor": 0
      },
      "text/plain": [
       "DeckGLWidget(google_maps_key=None, json_input='{\"initialViewState\": {\"bearing\": 0, \"latitude\": 52, \"longitude\"…"
      ]
     },
     "metadata": {},
     "output_type": "display_data"
    }
   ],
   "source": [
    "# andere layer: ColumnLayer\n",
    "#https://pydeck.gl/deck.html\n",
    "#https://hub.gke2.mybinder.org/user/uber-deck.gl-wh3i2ltb/tree\n",
    "\n",
    "# Define a layer to display on a map\n",
    "layer = pdk.Layer(\n",
    "    \"ColumnLayer\", #\"HexagonLayer\",\n",
    "    df_total[df_total['YEAR'] == year],\n",
    "    get_position=['LONGITUDE','LATITUDE'],\n",
    "    get_elevation='SJV_TOTAAL',\n",
    "    elevation_scale=1,\n",
    "    radius=500,\n",
    "    get_fill_color='[255, 220-SJV_TOTAAL/100, 0]',\n",
    "    auto_highlight=True,\n",
    "    pickable=True\n",
    ")\n",
    "\n",
    "# Set the viewport location\n",
    "view_state = pdk.ViewState(\n",
    "    latitude=52, \n",
    "    longitude=6, \n",
    "    zoom=6, \n",
    "    bearing=0, \n",
    "    pitch=30\n",
    ")\n",
    "\n",
    "# Render\n",
    "r = pdk.Deck(\n",
    "    layers=[layer],\n",
    "    initial_view_state=view_state,\n",
    "    map_style='mapbox://styles/mapbox/dark-v9',    #map_style=pdk.map_styles.SATELLITE\n",
    "    tooltip={\"text\": \"Jaarverbuik: {SJV_TOTAAL} MW\\nJaar: {YEAR}\\nPostcodegebied: {PC4}\"}\n",
    ")\n",
    "\n",
    "#to_html(filename=None, open_browser=False, notebook_display=None, iframe_width='100%', iframe_height=500, as_string=False, offline=False, **kwargs)\n",
    "r.to_html(\n",
    "    \"column_layer.html\",\n",
    "    open_browser=True,\n",
    "    notebook_display=None,\n",
    "    iframe_width='100%'\n",
    ")\n",
    "\n",
    "# Create an HTML header to display the year\n",
    "display_el = ipywidgets.HTML('<h1>Jaarverbruik in {}</h1>'.format(year))\n",
    "display(display_el)\n",
    "\n",
    "r.show()"
   ]
  },
  {
   "cell_type": "code",
   "execution_count": 26,
   "metadata": {},
   "outputs": [],
   "source": [
    "for y in range(2010, 2021):\n",
    "    layer.data = df_total[df_total['YEAR'] == str(y)]\n",
    "    # Reset the header to display the year\n",
    "    display_el.value = '<h1>Jaarverbruik in {}</h1>'.format(y)\n",
    "    r.update()\n",
    "    time.sleep(0.5)"
   ]
  },
  {
   "cell_type": "code",
   "execution_count": 27,
   "metadata": {},
   "outputs": [
    {
     "data": {
      "text/plain": [
       "0        21882.0\n",
       "1        23084.0\n",
       "2        24006.0\n",
       "3        23728.0\n",
       "4        23623.0\n",
       "          ...   \n",
       "17125       56.0\n",
       "17126       53.0\n",
       "17127      174.0\n",
       "17128      163.0\n",
       "17129      155.0\n",
       "Name: SJV_TOTAAL, Length: 17016, dtype: float64"
      ]
     },
     "execution_count": 27,
     "metadata": {},
     "output_type": "execute_result"
    }
   ],
   "source": [
    "df_total['SJV_TOTAAL']"
   ]
  },
  {
   "cell_type": "code",
   "execution_count": 28,
   "metadata": {},
   "outputs": [
    {
     "data": {
      "text/plain": [
       "<seaborn.axisgrid.FacetGrid at 0x21d9bda1820>"
      ]
     },
     "execution_count": 28,
     "metadata": {},
     "output_type": "execute_result"
    },
    {
     "data": {
      "image/png": "[encoded data removed]",
      "text/plain": [
       "<Figure size 360x360 with 1 Axes>"
      ]
     },
     "metadata": {},
     "output_type": "display_data"
    }
   ],
   "source": [
    "# change seaborn figure size\n",
    "#sns.set(rc={\"figure.figsize\": (30, 20)})\n",
    "#plt.figure(figsize=(50, 50))\n",
    "\n",
    "sns.displot(df_total, x='SJV_TOTAAL')"
   ]
  },
  {
   "cell_type": "code",
   "execution_count": 29,
   "metadata": {},
   "outputs": [
    {
     "data": {
      "text/plain": [
       "(1.0, 10000.0)"
      ]
     },
     "execution_count": 29,
     "metadata": {},
     "output_type": "execute_result"
    },
    {
     "data": {
      "image/png": "[encoded data removed]",
      "text/plain": [
       "<Figure size 864x576 with 1 Axes>"
      ]
     },
     "metadata": {},
     "output_type": "display_data"
    }
   ],
   "source": [
    "sns.set(style=\"ticks\", context=\"talk\")\n",
    "plt.style.use(\"dark_background\")\n",
    "ax = sns.lineplot(data=df_total, x=\"YEAR\", y=\"SJV_TOTAAL\", color='orange')\n",
    "ax.set(xlabel=\"Jaar\", ylabel = \"Standaard Jaarverbruik in MW\")\n",
    "plt.ylim(1, 10000) # set Y as"
   ]
  },
  {
   "cell_type": "code",
   "execution_count": 35,
   "metadata": {},
   "outputs": [
    {
     "data": {
      "application/vnd.jupyter.widget-view+json": {
       "model_id": "51b26b110ba94a0baa90917e16ff8c64",
       "version_major": 2,
       "version_minor": 0
      },
      "text/plain": [
       "QgridWidget(grid_options={'fullWidthRows': True, 'syncColumnCellResize': True, 'forceFitColumns': True, 'defau…"
      ]
     },
     "metadata": {},
     "output_type": "display_data"
    }
   ],
   "source": [
    "#https://towardsdatascience.com/two-essential-pandas-add-ons-499c1c9b65de\n",
    "#https://github.com/quantopian/qgrid\n",
    "#to show a df simply use the below:\n",
    "# Jaren in aparte kolommen weergeven\n",
    "# Postocde als index\n",
    "# Postcode als string\n",
    "# wellicht ook plaatsnaam nog toevoegen\n",
    "qgrid.show_grid(df_total)"
   ]
  },
  {
   "cell_type": "code",
   "execution_count": 30,
   "metadata": {},
   "outputs": [
    {
     "name": "stdout",
     "output_type": "stream",
     "text": [
      "IMKL-Kast_Aansluitkast_Elek_Zuid_ligging.csv\n",
      "IMKL-Kast_Aansluitkast_Elek_Noord_ligging.csv\n"
     ]
    }
   ],
   "source": [
    "# netwerk laden\n",
    "files=['IMKL-Kast_Aansluitkast_Elek_Zuid_ligging.csv'\n",
    "      ,'IMKL-Kast_Aansluitkast_Elek_Noord_ligging.csv']\n",
    "\n",
    "df = pd.DataFrame()\n",
    "for j in files:\n",
    "    print(j)\n",
    "    appenddata = pd.read_csv(os.path.join(DATA, j), sep=';', thousands='.', decimal=',',  encoding= 'unicode_escape')\n",
    "    df = df.append(appenddata,ignore_index=True)"
   ]
  },
  {
   "cell_type": "code",
   "execution_count": 31,
   "metadata": {},
   "outputs": [],
   "source": [
    "df[['LATITUDE','LONGITUDE']] = df['WKT'].str.slice(7, -1).str.split(' ', expand=True)\n",
    "df['LATITUDE'] = pd.to_numeric(df['LATITUDE']) #, downcast=\"float\")\n",
    "df['LONGITUDE'] = pd.to_numeric(df['LONGITUDE'])\n",
    "df['VALIDFROM'] = pd.to_datetime(df['VALIDFROM'], format='%Y-%m-%d %H:%M:%S', errors='ignore')"
   ]
  },
  {
   "cell_type": "code",
   "execution_count": 32,
   "metadata": {
    "scrolled": true
   },
   "outputs": [
    {
     "data": {
      "text/html": [
       "<div>\n",
       "<style scoped>\n",
       "    .dataframe tbody tr th:only-of-type {\n",
       "        vertical-align: middle;\n",
       "    }\n",
       "\n",
       "    .dataframe tbody tr th {\n",
       "        vertical-align: top;\n",
       "    }\n",
       "\n",
       "    .dataframe thead th {\n",
       "        text-align: right;\n",
       "    }\n",
       "</style>\n",
       "<table border=\"1\" class=\"dataframe\">\n",
       "  <thead>\n",
       "    <tr style=\"text-align: right;\">\n",
       "      <th></th>\n",
       "      <th>WKT</th>\n",
       "      <th>CURRENTSTA</th>\n",
       "      <th>VALIDFROM</th>\n",
       "      <th>VERTICALPO</th>\n",
       "      <th>SOURCEREFE</th>\n",
       "      <th>OMSCHRIJVI</th>\n",
       "      <th>CONTAINERL</th>\n",
       "      <th>BOVENGROND</th>\n",
       "      <th>GEONAUWKEU</th>\n",
       "      <th>ROTATIEHOE</th>\n",
       "      <th>ROTATIE_01</th>\n",
       "      <th>INNETWORK</th>\n",
       "      <th>EXTRAGEOME</th>\n",
       "      <th>LATITUDE</th>\n",
       "      <th>LONGITUDE</th>\n",
       "    </tr>\n",
       "  </thead>\n",
       "  <tbody>\n",
       "    <tr>\n",
       "      <th>0</th>\n",
       "      <td>POINT (51.3581526207256 5.42990093960942)</td>\n",
       "      <td>functional</td>\n",
       "      <td>2012-01-24</td>\n",
       "      <td>onGroundSurface</td>\n",
       "      <td>!general!aansluitkast_elek_kast!83235022443236...</td>\n",
       "      <td>Aansluitkast</td>\n",
       "      <td>kast</td>\n",
       "      <td>True</td>\n",
       "      <td>tot100cm</td>\n",
       "      <td>0</td>\n",
       "      <td>deg</td>\n",
       "      <td>laagspanning</td>\n",
       "      <td>0102000020407100000600000054E3A59BB1480341B29D...</td>\n",
       "      <td>51.358153</td>\n",
       "      <td>5.429901</td>\n",
       "    </tr>\n",
       "    <tr>\n",
       "      <th>1</th>\n",
       "      <td>POINT (51.6919228670036 5.30828309883926)</td>\n",
       "      <td>functional</td>\n",
       "      <td>2012-01-26</td>\n",
       "      <td>onGroundSurface</td>\n",
       "      <td>!general!aansluitkast_elek_kast!83235022443236...</td>\n",
       "      <td>Aansluitkast</td>\n",
       "      <td>kast</td>\n",
       "      <td>True</td>\n",
       "      <td>tot100cm</td>\n",
       "      <td>0</td>\n",
       "      <td>deg</td>\n",
       "      <td>laagspanning</td>\n",
       "      <td>01020000204071000005000000355EBA493A410241EC51...</td>\n",
       "      <td>51.691923</td>\n",
       "      <td>5.308283</td>\n",
       "    </tr>\n",
       "    <tr>\n",
       "      <th>2</th>\n",
       "      <td>POINT (51.6936186453334 5.25664329300984)</td>\n",
       "      <td>functional</td>\n",
       "      <td>2012-01-31</td>\n",
       "      <td>onGroundSurface</td>\n",
       "      <td>!general!aansluitkast_elek_kast!83235022443236...</td>\n",
       "      <td>Aansluitkast</td>\n",
       "      <td>kast</td>\n",
       "      <td>True</td>\n",
       "      <td>tot100cm</td>\n",
       "      <td>0</td>\n",
       "      <td>deg</td>\n",
       "      <td>laagspanning</td>\n",
       "      <td>01020000204071000005000000DF4F8D97A8D101415839...</td>\n",
       "      <td>51.693619</td>\n",
       "      <td>5.256643</td>\n",
       "    </tr>\n",
       "    <tr>\n",
       "      <th>3</th>\n",
       "      <td>POINT (51.5118682066469 4.28144204808226)</td>\n",
       "      <td>functional</td>\n",
       "      <td>2011-12-06</td>\n",
       "      <td>onGroundSurface</td>\n",
       "      <td>!general!aansluitkast_elek_kast!83235022443238...</td>\n",
       "      <td>Aansluitkast</td>\n",
       "      <td>kast</td>\n",
       "      <td>True</td>\n",
       "      <td>tot100cm</td>\n",
       "      <td>0</td>\n",
       "      <td>deg</td>\n",
       "      <td>laagspanning</td>\n",
       "      <td>010200002040710000050000005839B4C81E1AF3408195...</td>\n",
       "      <td>51.511868</td>\n",
       "      <td>4.281442</td>\n",
       "    </tr>\n",
       "    <tr>\n",
       "      <th>4</th>\n",
       "      <td>POINT (51.5543755068093 5.6824100686681)</td>\n",
       "      <td>functional</td>\n",
       "      <td>2011-12-06</td>\n",
       "      <td>onGroundSurface</td>\n",
       "      <td>!general!aansluitkast_elek_kast!83235022443236...</td>\n",
       "      <td>Aansluitkast</td>\n",
       "      <td>kast</td>\n",
       "      <td>True</td>\n",
       "      <td>tot100cm</td>\n",
       "      <td>0</td>\n",
       "      <td>deg</td>\n",
       "      <td>laagspanning</td>\n",
       "      <td>0102000020407100000500000014AE47E18D6B054121B0...</td>\n",
       "      <td>51.554376</td>\n",
       "      <td>5.682410</td>\n",
       "    </tr>\n",
       "  </tbody>\n",
       "</table>\n",
       "</div>"
      ],
      "text/plain": [
       "                                         WKT  CURRENTSTA  VALIDFROM  \\\n",
       "0  POINT (51.3581526207256 5.42990093960942)  functional 2012-01-24   \n",
       "1  POINT (51.6919228670036 5.30828309883926)  functional 2012-01-26   \n",
       "2  POINT (51.6936186453334 5.25664329300984)  functional 2012-01-31   \n",
       "3  POINT (51.5118682066469 4.28144204808226)  functional 2011-12-06   \n",
       "4   POINT (51.5543755068093 5.6824100686681)  functional 2011-12-06   \n",
       "\n",
       "        VERTICALPO                                         SOURCEREFE  \\\n",
       "0  onGroundSurface  !general!aansluitkast_elek_kast!83235022443236...   \n",
       "1  onGroundSurface  !general!aansluitkast_elek_kast!83235022443236...   \n",
       "2  onGroundSurface  !general!aansluitkast_elek_kast!83235022443236...   \n",
       "3  onGroundSurface  !general!aansluitkast_elek_kast!83235022443238...   \n",
       "4  onGroundSurface  !general!aansluitkast_elek_kast!83235022443236...   \n",
       "\n",
       "     OMSCHRIJVI CONTAINERL  BOVENGROND GEONAUWKEU  ROTATIEHOE ROTATIE_01  \\\n",
       "0  Aansluitkast       kast        True   tot100cm           0        deg   \n",
       "1  Aansluitkast       kast        True   tot100cm           0        deg   \n",
       "2  Aansluitkast       kast        True   tot100cm           0        deg   \n",
       "3  Aansluitkast       kast        True   tot100cm           0        deg   \n",
       "4  Aansluitkast       kast        True   tot100cm           0        deg   \n",
       "\n",
       "      INNETWORK                                         EXTRAGEOME   LATITUDE  \\\n",
       "0  laagspanning  0102000020407100000600000054E3A59BB1480341B29D...  51.358153   \n",
       "1  laagspanning  01020000204071000005000000355EBA493A410241EC51...  51.691923   \n",
       "2  laagspanning  01020000204071000005000000DF4F8D97A8D101415839...  51.693619   \n",
       "3  laagspanning  010200002040710000050000005839B4C81E1AF3408195...  51.511868   \n",
       "4  laagspanning  0102000020407100000500000014AE47E18D6B054121B0...  51.554376   \n",
       "\n",
       "   LONGITUDE  \n",
       "0   5.429901  \n",
       "1   5.308283  \n",
       "2   5.256643  \n",
       "3   4.281442  \n",
       "4   5.682410  "
      ]
     },
     "execution_count": 32,
     "metadata": {},
     "output_type": "execute_result"
    }
   ],
   "source": [
    "df.head()"
   ]
  },
  {
   "cell_type": "code",
   "execution_count": 33,
   "metadata": {},
   "outputs": [
    {
     "name": "stdout",
     "output_type": "stream",
     "text": [
      "<class 'pandas.core.frame.DataFrame'>\n",
      "RangeIndex: 68775 entries, 0 to 68774\n",
      "Data columns (total 15 columns):\n",
      " #   Column      Non-Null Count  Dtype         \n",
      "---  ------      --------------  -----         \n",
      " 0   WKT         68775 non-null  object        \n",
      " 1   CURRENTSTA  68775 non-null  object        \n",
      " 2   VALIDFROM   68775 non-null  datetime64[ns]\n",
      " 3   VERTICALPO  68775 non-null  object        \n",
      " 4   SOURCEREFE  68775 non-null  object        \n",
      " 5   OMSCHRIJVI  68775 non-null  object        \n",
      " 6   CONTAINERL  68775 non-null  object        \n",
      " 7   BOVENGROND  68775 non-null  bool          \n",
      " 8   GEONAUWKEU  68775 non-null  object        \n",
      " 9   ROTATIEHOE  68775 non-null  int64         \n",
      " 10  ROTATIE_01  68775 non-null  object        \n",
      " 11  INNETWORK   68775 non-null  object        \n",
      " 12  EXTRAGEOME  68775 non-null  object        \n",
      " 13  LATITUDE    68775 non-null  float64       \n",
      " 14  LONGITUDE   68775 non-null  float64       \n",
      "dtypes: bool(1), datetime64[ns](1), float64(2), int64(1), object(10)\n",
      "memory usage: 7.4+ MB\n"
     ]
    }
   ],
   "source": [
    "df.info()"
   ]
  },
  {
   "cell_type": "code",
   "execution_count": 34,
   "metadata": {},
   "outputs": [
    {
     "data": {
      "text/plain": [
       "Timestamp('1995-08-07 00:00:00')"
      ]
     },
     "execution_count": 34,
     "metadata": {},
     "output_type": "execute_result"
    }
   ],
   "source": [
    "df['VALIDFROM'].min()"
   ]
  },
  {
   "cell_type": "code",
   "execution_count": 35,
   "metadata": {},
   "outputs": [],
   "source": [
    "valid_from_date =  pd.to_datetime('01011995' , format='%d%m%Y', errors='ignore')"
   ]
  },
  {
   "cell_type": "code",
   "execution_count": 36,
   "metadata": {},
   "outputs": [
    {
     "data": {
      "application/vnd.jupyter.widget-view+json": {
       "model_id": "dbd63a948d064f708fc33918d45de23a",
       "version_major": 2,
       "version_minor": 0
      },
      "text/plain": [
       "HTML(value='<h1>2020</h1>')"
      ]
     },
     "metadata": {},
     "output_type": "display_data"
    },
    {
     "data": {
      "application/vnd.jupyter.widget-view+json": {
       "model_id": "1584c7d9e3264f85b4960f64646c0157",
       "version_major": 2,
       "version_minor": 0
      },
      "text/plain": [
       "DeckGLWidget(google_maps_key=None, json_input='{\"initialViewState\": {\"bearing\": 0, \"latitude\": 52, \"longitude\"…"
      ]
     },
     "metadata": {},
     "output_type": "display_data"
    }
   ],
   "source": [
    "# Define a layer to display on a map\n",
    "layer = pdk.Layer(\n",
    "    \"ScatterplotLayer\",\n",
    "    df[['LATITUDE','LONGITUDE','INNETWORK','OMSCHRIJVI']],\n",
    "    pickable=True,\n",
    "    opacity=0.8,\n",
    "    stroked=False,  #lines\n",
    "    filled=True,\n",
    "    radius_scale=10,\n",
    "    radius_min_pixels=2,\n",
    "    radius_max_pixels=10,\n",
    "    line_width_min_pixels=1,\n",
    "    get_position=['LONGITUDE','LATITUDE'],\n",
    "    get_radius=10, #\"exits_radius\",  # Radius is given in meters\n",
    "    get_fill_color='[255, 255, 0]' ,  #'[255, SJV_TOTAAL/100, 255]'  255 is geel, 0 is rood\n",
    "    get_line_color=[0, 0, 0]\n",
    ")\n",
    "\n",
    "# Set the viewport location\n",
    "view_state = pdk.ViewState(\n",
    "    latitude=52, \n",
    "    longitude=6, \n",
    "    zoom=6, \n",
    "    bearing=0, \n",
    "    pitch=0\n",
    ")\n",
    "\n",
    "# Render\n",
    "r = pdk.Deck(\n",
    "    layers=[layer],\n",
    "    initial_view_state=view_state,\n",
    "    map_style=pdk.map_styles.SATELLITE,  #map_style='mapbox://styles/mapbox/dark-v9',\n",
    "    tooltip= {\"text\": \"In netwerk: {INNETWORK}\\nOmschrijving: {OMSCHRIJVI}\"}\n",
    ")\n",
    "\n",
    "#to_html(filename=None, open_browser=False, notebook_display=None, iframe_width='100%', iframe_height=500, as_string=False, offline=False, **kwargs)\n",
    "r.to_html(\n",
    "    filename=\"scatterplot_nw_layer.html\",\n",
    "    open_browser=True,\n",
    "    notebook_display=None,\n",
    "    iframe_width='100%',\n",
    "    #iframe_height=500,\n",
    "    #as_string=False, \n",
    "    #offline=False\n",
    ")\n",
    "\n",
    "# Create an HTML header to display the year\n",
    "display_el = ipywidgets.HTML('<h1>{}</h1>'.format(year))\n",
    "display(display_el)\n",
    "\n",
    "r.show()"
   ]
  },
  {
   "cell_type": "code",
   "execution_count": null,
   "metadata": {},
   "outputs": [],
   "source": []
  }
 ],
 "metadata": {
  "kernelspec": {
   "display_name": "Python [conda env:jads_enexis] *",
   "language": "python",
   "name": "conda-env-jads_enexis-py"
  },
  "language_info": {
   "codemirror_mode": {
    "name": "ipython",
    "version": 3
   },
   "file_extension": ".py",
   "mimetype": "text/x-python",
   "name": "python",
   "nbconvert_exporter": "python",
   "pygments_lexer": "ipython3",
   "version": "3.8.5"
  }
 },
 "nbformat": 4,
 "nbformat_minor": 4
}
