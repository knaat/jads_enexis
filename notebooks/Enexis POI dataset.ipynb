{
 "cells": [
  {
   "cell_type": "markdown",
   "metadata": {},
   "source": [
    "#### Enexis navigatie POI (Point of Interest) ####\n",
    "* Link naar data: https://opendatasitecore.blob.core.windows.net/opendata/poi/POI-Enexis.zip\n",
    "* Toelichting Enexis navigatiedata -POI: https://www.enexis.nl/over-ons/-/media/documenten/open-data/toelichting_dataset_poi_enexis_netbeheer.pdf?modified=00010101000000&la=nl-nl&hash=1159FF447D9DCD647566336110597D4B35F70586\n",
    "\n",
    "Bevat geografische locaties (logitude, latitude) van de:\n",
    "* middenspanningsstations\n",
    "* de laagspanningsverdeelkasten\n",
    "* de gasstations\n",
    "* gasafsluiters\n",
    "Van Enexis Netbeheer.\n",
    "\n",
    "Daarnaast zijn opgenomen in de dataset:\n",
    "* objectnaam/nummers\n",
    "* straat\n",
    "* huisnummer\n",
    "* huisnummertoevoeging\n",
    "* postcode\n",
    "* woonplaats\n",
    "De POI dataset wordt in .ov2 formaat en .CSV aangeboden. \n",
    "Dit maakt de POI dataset anders dan de datasets Asset Data en liggingsgegevens elektriciteitsnetten. \n",
    "###### De POI dataset is bedoeld voor het inladen als point of interest in een TomTom navigatie --> handig voor onze interactieve kaart?? ####\n",
    "\n",
    "##### Verversingsdatum: #####\n",
    "Uiterlijk de eerste week van de nieuwe maand wordt er een nieuw bestand gemaakt en toegevoegd\n",
    "aan de Open Data pagina op www.enexis.nl. \n",
    "\n",
    "##### WAT IS NIET GELUKT / VRAAG #####\n",
    "Data is een zip file: het lukte mij niet om te unzippen in Python. Dit willen we wellicht wel; zodat altijd de meest recente data van internet afgehaald wordt. Maar wellicht ook niet om evt errors te voorkomen (door verandering/ groei in database?).\n"
   ]
  },
  {
   "cell_type": "code",
   "execution_count": 1,
   "metadata": {},
   "outputs": [],
   "source": [
    "import pandas as pd\n",
    "import numpy as np\n",
    "import os\n",
    "import zipfile as z"
   ]
  },
  {
   "cell_type": "code",
   "execution_count": 2,
   "metadata": {},
   "outputs": [],
   "source": [
    "# variables used in script\n",
    "# nog toe te voegen"
   ]
  },
  {
   "cell_type": "code",
   "execution_count": 3,
   "metadata": {},
   "outputs": [],
   "source": [
    "# show all columns in the dataframe\n",
    "pd.set_option('max_columns', None)"
   ]
  },
  {
   "cell_type": "code",
   "execution_count": 4,
   "metadata": {},
   "outputs": [],
   "source": [
    "# zipped_file = ['https://opendatasitecore.blob.core.windows.net/opendata/poi/POI-Enexis.zip']\n",
    "# Tinka: unzipping of file lukte niet. Daarom in Github alle files erin geplaatst\n",
    "# Wellicht willen we dat niet: file wordt elke maand geupload, en nu hebben we niet steeds de laatste dataset"
   ]
  },
  {
   "cell_type": "code",
   "execution_count": 5,
   "metadata": {},
   "outputs": [],
   "source": [
    "def load_data(files):\n",
    "    df = pd.DataFrame()\n",
    "    for j in files:\n",
    "        print('load file: ' + j)\n",
    "        appenddata = pd.read_csv(j, sep=';', thousands='.', decimal=',',  encoding= 'utf-8')\n",
    "        # column names hebben soms trailing spaces maar niet in beide files\n",
    "        appenddata.columns = appenddata.columns.str.rstrip()\n",
    "        df = df.append(appenddata,ignore_index=True)\n",
    "    return df"
   ]
  },
  {
   "cell_type": "code",
   "execution_count": 6,
   "metadata": {},
   "outputs": [],
   "source": [
    "# file names\n",
    "#'https://github.com/processminery/jads_enexis/blob/main/data/gasstation.csv?raw=true'\n",
    "# 'https://github.com/processminery/jads_enexis/blob/main/data/afs.csv?raw=true'\n",
    "# 'https://github.com/processminery/jads_enexis/blob/main/data/e_station.csv?raw=true'\n",
    "# 'https://github.com/processminery/jads_enexis/blob/main/data/verdeelkast.csv?raw=true'"
   ]
  },
  {
   "cell_type": "code",
   "execution_count": 7,
   "metadata": {
    "scrolled": false
   },
   "outputs": [],
   "source": [
    "file = ['https://github.com/processminery/jads_enexis/blob/main/data/gasstation.csv?raw=true']"
   ]
  },
  {
   "cell_type": "code",
   "execution_count": 8,
   "metadata": {},
   "outputs": [
    {
     "name": "stdout",
     "output_type": "stream",
     "text": [
      "load file: https://github.com/processminery/jads_enexis/blob/main/data/gasstation.csv?raw=true\n"
     ]
    }
   ],
   "source": [
    "# Enexis gasaansluitingen\n",
    "df_gas = load_data(file)"
   ]
  },
  {
   "cell_type": "code",
   "execution_count": 9,
   "metadata": {
    "scrolled": true
   },
   "outputs": [],
   "source": [
    "file = ['https://github.com/processminery/jads_enexis/blob/main/data/afs.csv?raw=true']"
   ]
  },
  {
   "cell_type": "code",
   "execution_count": 10,
   "metadata": {},
   "outputs": [
    {
     "name": "stdout",
     "output_type": "stream",
     "text": [
      "load file: https://github.com/processminery/jads_enexis/blob/main/data/afs.csv?raw=true\n"
     ]
    }
   ],
   "source": [
    "# Enexis gasafsluiters\n",
    "df_afs = load_data(file)"
   ]
  },
  {
   "cell_type": "code",
   "execution_count": 11,
   "metadata": {},
   "outputs": [],
   "source": [
    "file = ['https://github.com/processminery/jads_enexis/blob/main/data/e_station.csv?raw=true']"
   ]
  },
  {
   "cell_type": "code",
   "execution_count": 12,
   "metadata": {},
   "outputs": [
    {
     "name": "stdout",
     "output_type": "stream",
     "text": [
      "load file: https://github.com/processminery/jads_enexis/blob/main/data/e_station.csv?raw=true\n"
     ]
    }
   ],
   "source": [
    "# Enexis laagspannings verdeelkasten\n",
    "df_estat = load_data(file)"
   ]
  },
  {
   "cell_type": "code",
   "execution_count": 13,
   "metadata": {},
   "outputs": [],
   "source": [
    "file = ['https://github.com/processminery/jads_enexis/blob/main/data/verdeelkast.csv?raw=true']"
   ]
  },
  {
   "cell_type": "code",
   "execution_count": 14,
   "metadata": {},
   "outputs": [
    {
     "name": "stdout",
     "output_type": "stream",
     "text": [
      "load file: https://github.com/processminery/jads_enexis/blob/main/data/verdeelkast.csv?raw=true\n"
     ]
    }
   ],
   "source": [
    "# Enexis middenspanning verdeelstations\n",
    "df_verdeel = load_data(file)"
   ]
  },
  {
   "cell_type": "code",
   "execution_count": 15,
   "metadata": {},
   "outputs": [],
   "source": [
    "# check missing values\n",
    "def missing_values(file):\n",
    "    missing_total = file.isna().sum().sort_values(ascending=False)\n",
    "    print('Number of attributes with Null values: ' + str(len(missing_total[missing_total > 0])))\n",
    "    print(missing_total[missing_total > 0])"
   ]
  },
  {
   "cell_type": "code",
   "execution_count": 16,
   "metadata": {},
   "outputs": [
    {
     "name": "stdout",
     "output_type": "stream",
     "text": [
      "Number of attributes with Null values: 0\n",
      "Series([], dtype: int64)\n"
     ]
    }
   ],
   "source": [
    "missing_values(df_gas)"
   ]
  },
  {
   "cell_type": "code",
   "execution_count": 17,
   "metadata": {},
   "outputs": [
    {
     "name": "stdout",
     "output_type": "stream",
     "text": [
      "Number of attributes with Null values: 0\n",
      "Series([], dtype: int64)\n"
     ]
    }
   ],
   "source": [
    "missing_values(df_afs)"
   ]
  },
  {
   "cell_type": "code",
   "execution_count": 18,
   "metadata": {},
   "outputs": [
    {
     "name": "stdout",
     "output_type": "stream",
     "text": [
      "Number of attributes with Null values: 0\n",
      "Series([], dtype: int64)\n"
     ]
    }
   ],
   "source": [
    "missing_values(df_estat)"
   ]
  },
  {
   "cell_type": "code",
   "execution_count": 20,
   "metadata": {},
   "outputs": [
    {
     "name": "stdout",
     "output_type": "stream",
     "text": [
      "Number of attributes with Null values: 0\n",
      "Series([], dtype: int64)\n"
     ]
    }
   ],
   "source": [
    "missing_values(df_verdeel)"
   ]
  },
  {
   "cell_type": "code",
   "execution_count": null,
   "metadata": {},
   "outputs": [],
   "source": []
  }
 ],
 "metadata": {
  "kernelspec": {
   "display_name": "Python 3",
   "language": "python",
   "name": "python3"
  },
  "language_info": {
   "codemirror_mode": {
    "name": "ipython",
    "version": 3
   },
   "file_extension": ".py",
   "mimetype": "text/x-python",
   "name": "python",
   "nbconvert_exporter": "python",
   "pygments_lexer": "ipython3",
   "version": "3.8.5"
  }
 },
 "nbformat": 4,
 "nbformat_minor": 4
}
