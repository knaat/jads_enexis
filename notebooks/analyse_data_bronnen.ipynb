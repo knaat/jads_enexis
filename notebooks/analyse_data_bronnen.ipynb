{
 "cells": [
  {
   "cell_type": "code",
   "execution_count": 34,
   "id": "fantastic-number",
   "metadata": {},
   "outputs": [],
   "source": [
    "import pandas as pd\n",
    "import numpy as np\n",
    "import os"
   ]
  },
  {
   "cell_type": "code",
   "execution_count": 2,
   "id": "likely-bishop",
   "metadata": {},
   "outputs": [],
   "source": [
    "# show all columns in the dataframe\n",
    "pd.set_option('max_columns', None)"
   ]
  },
  {
   "cell_type": "markdown",
   "id": "sharp-heater",
   "metadata": {},
   "source": [
    "### De eerste data set\n",
    "Enexis decentrale opwekkingsgegevens zon-pv  2020 (1/1 + 1/7)\n",
    "https://www.enexis.nl/over-ons/wat-bieden-we/andere-diensten/open-data "
   ]
  },
  {
   "cell_type": "code",
   "execution_count": 3,
   "id": "married-psychology",
   "metadata": {},
   "outputs": [],
   "source": [
    "def load_data(files):\n",
    "    df = pd.DataFrame()\n",
    "    for j in files:\n",
    "        print('load file: ' + j)\n",
    "        appenddata = pd.read_csv(j, sep=';', thousands='.', decimal=',',  encoding= 'utf-8')\n",
    "        # column names hebben soms trailing spaces maar niet in beide files\n",
    "        appenddata.columns = appenddata.columns.str.rstrip()\n",
    "        df = df.append(appenddata,ignore_index=True)\n",
    "    return df    "
   ]
  },
  {
   "cell_type": "code",
   "execution_count": 4,
   "id": "backed-harris",
   "metadata": {},
   "outputs": [],
   "source": [
    "# file names\n",
    "files = ['https://opendatasitecore.blob.core.windows.net/opendata/KV_opwek/Enexis_decentrale_opwek_kv_(zon_pv)_01012020.csv'\n",
    "         ,'https://opendatasitecore.blob.core.windows.net/opendata/KV_opwek/Enexis_decentrale_opwek_kv_(zon_pv)_01072020.csv'\n",
    "        ]"
   ]
  },
  {
   "cell_type": "code",
   "execution_count": 5,
   "id": "stylish-nursery",
   "metadata": {},
   "outputs": [
    {
     "name": "stdout",
     "output_type": "stream",
     "text": [
      "load file: https://opendatasitecore.blob.core.windows.net/opendata/KV_opwek/Enexis_decentrale_opwek_kv_(zon_pv)_01012020.csv\n",
      "load file: https://opendatasitecore.blob.core.windows.net/opendata/KV_opwek/Enexis_decentrale_opwek_kv_(zon_pv)_01072020.csv\n"
     ]
    }
   ],
   "source": [
    "df = load_data(files)"
   ]
  },
  {
   "cell_type": "code",
   "execution_count": 6,
   "id": "incident-debate",
   "metadata": {},
   "outputs": [
    {
     "data": {
      "text/plain": [
       "Index(['Peildatum', 'Netbeheerder', 'Provincie', 'Gemeente', 'CBS Buurt',\n",
       "       'CBS Buurtcode', 'Aantal aansluitingen in CBS-buurt',\n",
       "       'Aantal aansluitingen met opwekinstallatie', 'Opgesteld vermogen',\n",
       "       'Unnamed: 9'],\n",
       "      dtype='object')"
      ]
     },
     "execution_count": 6,
     "metadata": {},
     "output_type": "execute_result"
    }
   ],
   "source": [
    "df.columns"
   ]
  },
  {
   "cell_type": "code",
   "execution_count": 7,
   "id": "employed-surge",
   "metadata": {},
   "outputs": [
    {
     "name": "stdout",
     "output_type": "stream",
     "text": [
      "Number of attributes with Null values: 6\n",
      "Unnamed: 9                           7967\n",
      "CBS Buurtcode                         292\n",
      "CBS Buurt                             264\n",
      "Gemeente                                5\n",
      "Provincie                               2\n",
      "Aantal aansluitingen in CBS-buurt       1\n",
      "dtype: int64\n"
     ]
    }
   ],
   "source": [
    "# check missing values\n",
    "missing_total = df.isna().sum().sort_values(ascending=False)\n",
    "print('Number of attributes with Null values: ' + str(len(missing_total[missing_total > 0])))\n",
    "print(missing_total[missing_total > 0])"
   ]
  },
  {
   "cell_type": "code",
   "execution_count": 8,
   "id": "hungry-surgery",
   "metadata": {},
   "outputs": [],
   "source": [
    "# vreemde kolom aan het eind\n",
    "df = df.drop(columns=['Unnamed: 9'])"
   ]
  },
  {
   "cell_type": "code",
   "execution_count": 9,
   "id": "interesting-wichita",
   "metadata": {},
   "outputs": [],
   "source": [
    "# drop alle rows waar alle columns leeg zijn\n",
    "df = df.dropna(how='all') \n",
    "#df = df.dropna(subset=['Peildatum'])"
   ]
  },
  {
   "cell_type": "code",
   "execution_count": 10,
   "id": "legal-merit",
   "metadata": {},
   "outputs": [],
   "source": [
    "# fill missing values \n",
    "df['CBS Buurt'] = df['CBS Buurt'].fillna('Onbekend')\n",
    "df['Gemeente'] = df['Gemeente'].fillna('Onbekend')\n",
    "df['Provincie'] = df['Provincie'].fillna('Onbekend')\n",
    "df['Aantal aansluitingen in CBS-buurt'] = df['Aantal aansluitingen in CBS-buurt'].fillna(0)\n",
    "df['CBS Buurtcode'] = df['CBS Buurtcode'].fillna(9999)"
   ]
  },
  {
   "cell_type": "code",
   "execution_count": 11,
   "id": "hairy-specific",
   "metadata": {},
   "outputs": [],
   "source": [
    "# select numeric columns\n",
    "numeric_columns = df.select_dtypes(include=['number']).columns  #To select all *numeric* types, use ``np.number`` or ``'number'``\n",
    "#numeric_columns\n",
    "# change format to integer for numeric columns\n",
    "df[numeric_columns]= df[numeric_columns].astype(int)"
   ]
  },
  {
   "cell_type": "code",
   "execution_count": 12,
   "id": "democratic-suspension",
   "metadata": {},
   "outputs": [],
   "source": [
    "# peildatum als datum (yyyy-mm)\n",
    "df['Peildatum'] = pd.to_datetime(df['Peildatum'].astype(str).str[0:6], format='%Y%m', errors='ignore')"
   ]
  },
  {
   "cell_type": "code",
   "execution_count": 13,
   "id": "dramatic-helena",
   "metadata": {},
   "outputs": [],
   "source": [
    "# fractie aansluitingen met opwekinstallatie\n",
    "df['Fractie met Opwerkinstallatie'] = (df['Aantal aansluitingen met opwekinstallatie'] / df['Aantal aansluitingen in CBS-buurt']).round(2)\n",
    "df['Vermogen per Opwekinstallatie in kWp'] = (df['Opgesteld vermogen'] / df['Aantal aansluitingen met opwekinstallatie']).round(1)"
   ]
  },
  {
   "cell_type": "code",
   "execution_count": 14,
   "id": "western-canon",
   "metadata": {},
   "outputs": [
    {
     "data": {
      "text/html": [
       "<div>\n",
       "<style scoped>\n",
       "    .dataframe tbody tr th:only-of-type {\n",
       "        vertical-align: middle;\n",
       "    }\n",
       "\n",
       "    .dataframe tbody tr th {\n",
       "        vertical-align: top;\n",
       "    }\n",
       "\n",
       "    .dataframe thead th {\n",
       "        text-align: right;\n",
       "    }\n",
       "</style>\n",
       "<table border=\"1\" class=\"dataframe\">\n",
       "  <thead>\n",
       "    <tr style=\"text-align: right;\">\n",
       "      <th></th>\n",
       "      <th>Peildatum</th>\n",
       "      <th>Netbeheerder</th>\n",
       "      <th>Provincie</th>\n",
       "      <th>Gemeente</th>\n",
       "      <th>CBS Buurt</th>\n",
       "      <th>CBS Buurtcode</th>\n",
       "      <th>Aantal aansluitingen in CBS-buurt</th>\n",
       "      <th>Aantal aansluitingen met opwekinstallatie</th>\n",
       "      <th>Opgesteld vermogen</th>\n",
       "      <th>Fractie met Opwerkinstallatie</th>\n",
       "      <th>Vermogen per Opwekinstallatie in kWp</th>\n",
       "    </tr>\n",
       "  </thead>\n",
       "  <tbody>\n",
       "    <tr>\n",
       "      <th>0</th>\n",
       "      <td>2020-01-01</td>\n",
       "      <td>Enexis</td>\n",
       "      <td>Groningen</td>\n",
       "      <td>Appingedam</td>\n",
       "      <td>Appingedam-Centrum</td>\n",
       "      <td>30000</td>\n",
       "      <td>1480</td>\n",
       "      <td>155</td>\n",
       "      <td>507</td>\n",
       "      <td>0.10</td>\n",
       "      <td>3.3</td>\n",
       "    </tr>\n",
       "    <tr>\n",
       "      <th>1</th>\n",
       "      <td>2020-01-01</td>\n",
       "      <td>Enexis</td>\n",
       "      <td>Groningen</td>\n",
       "      <td>Appingedam</td>\n",
       "      <td>Appingedam-West</td>\n",
       "      <td>30001</td>\n",
       "      <td>1331</td>\n",
       "      <td>479</td>\n",
       "      <td>1685</td>\n",
       "      <td>0.36</td>\n",
       "      <td>3.5</td>\n",
       "    </tr>\n",
       "    <tr>\n",
       "      <th>2</th>\n",
       "      <td>2020-01-01</td>\n",
       "      <td>Enexis</td>\n",
       "      <td>Groningen</td>\n",
       "      <td>Appingedam</td>\n",
       "      <td>Appingedam-Oost</td>\n",
       "      <td>30002</td>\n",
       "      <td>2826</td>\n",
       "      <td>439</td>\n",
       "      <td>1616</td>\n",
       "      <td>0.16</td>\n",
       "      <td>3.7</td>\n",
       "    </tr>\n",
       "    <tr>\n",
       "      <th>3</th>\n",
       "      <td>2020-01-01</td>\n",
       "      <td>Enexis</td>\n",
       "      <td>Groningen</td>\n",
       "      <td>Appingedam</td>\n",
       "      <td>Verspreide huizen Damsterdiep en Eemskanaal</td>\n",
       "      <td>30007</td>\n",
       "      <td>230</td>\n",
       "      <td>97</td>\n",
       "      <td>405</td>\n",
       "      <td>0.42</td>\n",
       "      <td>4.2</td>\n",
       "    </tr>\n",
       "    <tr>\n",
       "      <th>4</th>\n",
       "      <td>2020-01-01</td>\n",
       "      <td>Enexis</td>\n",
       "      <td>Groningen</td>\n",
       "      <td>Appingedam</td>\n",
       "      <td>Verspreide huizen ten zuiden van Eemskanaal</td>\n",
       "      <td>30008</td>\n",
       "      <td>102</td>\n",
       "      <td>21</td>\n",
       "      <td>61</td>\n",
       "      <td>0.21</td>\n",
       "      <td>2.9</td>\n",
       "    </tr>\n",
       "  </tbody>\n",
       "</table>\n",
       "</div>"
      ],
      "text/plain": [
       "   Peildatum Netbeheerder  Provincie    Gemeente  \\\n",
       "0 2020-01-01       Enexis  Groningen  Appingedam   \n",
       "1 2020-01-01       Enexis  Groningen  Appingedam   \n",
       "2 2020-01-01       Enexis  Groningen  Appingedam   \n",
       "3 2020-01-01       Enexis  Groningen  Appingedam   \n",
       "4 2020-01-01       Enexis  Groningen  Appingedam   \n",
       "\n",
       "                                     CBS Buurt  CBS Buurtcode  \\\n",
       "0                           Appingedam-Centrum          30000   \n",
       "1                              Appingedam-West          30001   \n",
       "2                              Appingedam-Oost          30002   \n",
       "3  Verspreide huizen Damsterdiep en Eemskanaal          30007   \n",
       "4  Verspreide huizen ten zuiden van Eemskanaal          30008   \n",
       "\n",
       "   Aantal aansluitingen in CBS-buurt  \\\n",
       "0                               1480   \n",
       "1                               1331   \n",
       "2                               2826   \n",
       "3                                230   \n",
       "4                                102   \n",
       "\n",
       "   Aantal aansluitingen met opwekinstallatie  Opgesteld vermogen  \\\n",
       "0                                        155                 507   \n",
       "1                                        479                1685   \n",
       "2                                        439                1616   \n",
       "3                                         97                 405   \n",
       "4                                         21                  61   \n",
       "\n",
       "   Fractie met Opwerkinstallatie  Vermogen per Opwekinstallatie in kWp  \n",
       "0                           0.10                                   3.3  \n",
       "1                           0.36                                   3.5  \n",
       "2                           0.16                                   3.7  \n",
       "3                           0.42                                   4.2  \n",
       "4                           0.21                                   2.9  "
      ]
     },
     "execution_count": 14,
     "metadata": {},
     "output_type": "execute_result"
    }
   ],
   "source": [
    "df.head()"
   ]
  },
  {
   "cell_type": "code",
   "execution_count": 15,
   "id": "subsequent-context",
   "metadata": {},
   "outputs": [],
   "source": [
    "# to do\n",
    "# CBS buurtcode omzetten naar postcode gebied\n",
    "#   https://www.cbs.nl/nl-nl/longread/aanvullende-statistische-diensten/2020/toelichting-wijk-en-buurtkaart-2018-2019-en-2020/1-gegevens-geometrie\n",
    "#   https://www.cbs.nl/nl-nl/longread/aanvullende-statistische-diensten/2020/toelichting-wijk-en-buurtkaart-2018-2019-en-2020/bijlage-1-beschikbaarheid-variabelen-per-jaar\n",
    "#   https://www.cbs.nl/nl-nl/dossier/nederland-regionaal/geografische-data/wijk-en-buurtkaart-2020\n",
    "# BU_CODE\tBuurtcode\n",
    "# POSTCODE\tMeest voorkomende postcode\n",
    "# coordinaten toevoegen\n",
    "\n",
    "# ontwikkeling in de tijd uitzetten in line grafiek"
   ]
  },
  {
   "cell_type": "code",
   "execution_count": 16,
   "id": "exposed-nursing",
   "metadata": {},
   "outputs": [],
   "source": [
    "#'https://www.cbs.nl/-/media/cbs/dossiers/nederland-regionaal/wijk-en-buurtstatistieken/wijkbuurtkaart_2020_v1.zip'"
   ]
  },
  {
   "cell_type": "code",
   "execution_count": 17,
   "id": "photographic-partnership",
   "metadata": {},
   "outputs": [],
   "source": [
    "#file = 'WijkBuurtkaart_2020_v1/buurt_2020_v1.shp'"
   ]
  },
  {
   "cell_type": "markdown",
   "id": "cutting-alert",
   "metadata": {},
   "source": [
    "# CBS Buurtcode koppelen aan PC"
   ]
  },
  {
   "cell_type": "code",
   "execution_count": 23,
   "id": "separate-spirituality",
   "metadata": {},
   "outputs": [
    {
     "data": {
      "text/plain": [
       "'C:\\\\Users\\\\MarcelKoolwijk\\\\Documents\\\\SQL\\\\jads_enexis'"
      ]
     },
     "execution_count": 23,
     "metadata": {},
     "output_type": "execute_result"
    }
   ],
   "source": [
    "os.chdir('..')\n",
    "os.getcwd()"
   ]
  },
  {
   "cell_type": "code",
   "execution_count": 24,
   "id": "absent-change",
   "metadata": {},
   "outputs": [],
   "source": [
    "#files = 'https://actondatanl-my.sharepoint.com/:x:/r/personal/eric_ruis_actondata_nl/Documents/JADS%20Energy/data/pc6-gwb2020.csv'\n",
    "#files = 'Users\\MarcelKoolwijk\\Documents\\SQL\\jads_enexis\\data\\pc6-gwb2020.csv'\n",
    "files = 'data\\pc6-gwb2020.csv'"
   ]
  },
  {
   "cell_type": "code",
   "execution_count": 25,
   "id": "challenging-biography",
   "metadata": {},
   "outputs": [],
   "source": [
    "df_brt = pd.read_csv(files, sep=';', thousands='.', decimal=',',  encoding= 'utf-8')"
   ]
  },
  {
   "cell_type": "code",
   "execution_count": 26,
   "id": "hybrid-auckland",
   "metadata": {},
   "outputs": [
    {
     "data": {
      "text/html": [
       "<div>\n",
       "<style scoped>\n",
       "    .dataframe tbody tr th:only-of-type {\n",
       "        vertical-align: middle;\n",
       "    }\n",
       "\n",
       "    .dataframe tbody tr th {\n",
       "        vertical-align: top;\n",
       "    }\n",
       "\n",
       "    .dataframe thead th {\n",
       "        text-align: right;\n",
       "    }\n",
       "</style>\n",
       "<table border=\"1\" class=\"dataframe\">\n",
       "  <thead>\n",
       "    <tr style=\"text-align: right;\">\n",
       "      <th></th>\n",
       "      <th>PC6</th>\n",
       "      <th>Buurt2020</th>\n",
       "      <th>Wijk2020</th>\n",
       "      <th>Gemeente2020</th>\n",
       "    </tr>\n",
       "  </thead>\n",
       "  <tbody>\n",
       "    <tr>\n",
       "      <th>0</th>\n",
       "      <td>1011AB</td>\n",
       "      <td>3630400</td>\n",
       "      <td>36304</td>\n",
       "      <td>363</td>\n",
       "    </tr>\n",
       "    <tr>\n",
       "      <th>1</th>\n",
       "      <td>1011AC</td>\n",
       "      <td>3630400</td>\n",
       "      <td>36304</td>\n",
       "      <td>363</td>\n",
       "    </tr>\n",
       "    <tr>\n",
       "      <th>2</th>\n",
       "      <td>1011AD</td>\n",
       "      <td>3630400</td>\n",
       "      <td>36304</td>\n",
       "      <td>363</td>\n",
       "    </tr>\n",
       "    <tr>\n",
       "      <th>3</th>\n",
       "      <td>1011AE</td>\n",
       "      <td>3630400</td>\n",
       "      <td>36304</td>\n",
       "      <td>363</td>\n",
       "    </tr>\n",
       "    <tr>\n",
       "      <th>4</th>\n",
       "      <td>1011AG</td>\n",
       "      <td>3630403</td>\n",
       "      <td>36304</td>\n",
       "      <td>363</td>\n",
       "    </tr>\n",
       "  </tbody>\n",
       "</table>\n",
       "</div>"
      ],
      "text/plain": [
       "      PC6  Buurt2020  Wijk2020  Gemeente2020\n",
       "0  1011AB    3630400     36304           363\n",
       "1  1011AC    3630400     36304           363\n",
       "2  1011AD    3630400     36304           363\n",
       "3  1011AE    3630400     36304           363\n",
       "4  1011AG    3630403     36304           363"
      ]
     },
     "execution_count": 26,
     "metadata": {},
     "output_type": "execute_result"
    }
   ],
   "source": [
    "df_brt.head()"
   ]
  },
  {
   "cell_type": "code",
   "execution_count": 27,
   "id": "synthetic-feature",
   "metadata": {},
   "outputs": [
    {
     "data": {
      "text/plain": [
       "(489653, 4)"
      ]
     },
     "execution_count": 27,
     "metadata": {},
     "output_type": "execute_result"
    }
   ],
   "source": [
    "df_brtrt.shape"
   ]
  },
  {
   "cell_type": "code",
   "execution_count": 29,
   "id": "minus-ordinary",
   "metadata": {},
   "outputs": [],
   "source": [
    "df_brt['PC4'] = df_brt['PC6'].astype(str).str[0:4]"
   ]
  },
  {
   "cell_type": "code",
   "execution_count": 30,
   "id": "blessed-spain",
   "metadata": {},
   "outputs": [
    {
     "data": {
      "text/html": [
       "<div>\n",
       "<style scoped>\n",
       "    .dataframe tbody tr th:only-of-type {\n",
       "        vertical-align: middle;\n",
       "    }\n",
       "\n",
       "    .dataframe tbody tr th {\n",
       "        vertical-align: top;\n",
       "    }\n",
       "\n",
       "    .dataframe thead th {\n",
       "        text-align: right;\n",
       "    }\n",
       "</style>\n",
       "<table border=\"1\" class=\"dataframe\">\n",
       "  <thead>\n",
       "    <tr style=\"text-align: right;\">\n",
       "      <th></th>\n",
       "      <th>PC6</th>\n",
       "      <th>Buurt2020</th>\n",
       "      <th>Wijk2020</th>\n",
       "      <th>Gemeente2020</th>\n",
       "      <th>PC4</th>\n",
       "    </tr>\n",
       "  </thead>\n",
       "  <tbody>\n",
       "    <tr>\n",
       "      <th>0</th>\n",
       "      <td>1011AB</td>\n",
       "      <td>3630400</td>\n",
       "      <td>36304</td>\n",
       "      <td>363</td>\n",
       "      <td>1011</td>\n",
       "    </tr>\n",
       "    <tr>\n",
       "      <th>1</th>\n",
       "      <td>1011AC</td>\n",
       "      <td>3630400</td>\n",
       "      <td>36304</td>\n",
       "      <td>363</td>\n",
       "      <td>1011</td>\n",
       "    </tr>\n",
       "    <tr>\n",
       "      <th>2</th>\n",
       "      <td>1011AD</td>\n",
       "      <td>3630400</td>\n",
       "      <td>36304</td>\n",
       "      <td>363</td>\n",
       "      <td>1011</td>\n",
       "    </tr>\n",
       "    <tr>\n",
       "      <th>3</th>\n",
       "      <td>1011AE</td>\n",
       "      <td>3630400</td>\n",
       "      <td>36304</td>\n",
       "      <td>363</td>\n",
       "      <td>1011</td>\n",
       "    </tr>\n",
       "    <tr>\n",
       "      <th>4</th>\n",
       "      <td>1011AG</td>\n",
       "      <td>3630403</td>\n",
       "      <td>36304</td>\n",
       "      <td>363</td>\n",
       "      <td>1011</td>\n",
       "    </tr>\n",
       "  </tbody>\n",
       "</table>\n",
       "</div>"
      ],
      "text/plain": [
       "      PC6  Buurt2020  Wijk2020  Gemeente2020   PC4\n",
       "0  1011AB    3630400     36304           363  1011\n",
       "1  1011AC    3630400     36304           363  1011\n",
       "2  1011AD    3630400     36304           363  1011\n",
       "3  1011AE    3630400     36304           363  1011\n",
       "4  1011AG    3630403     36304           363  1011"
      ]
     },
     "execution_count": 30,
     "metadata": {},
     "output_type": "execute_result"
    }
   ],
   "source": [
    "df_brt.head()"
   ]
  },
  {
   "cell_type": "code",
   "execution_count": null,
   "id": "proof-lover",
   "metadata": {},
   "outputs": [],
   "source": [
    "#df_brt.groupby(['Buurt2020'])['PC4'].max()\n",
    "df_brt.groupby(['Buurt2020'])['PC4'].agg([('Min' , 'min'), ('Max', 'max')])"
   ]
  },
  {
   "cell_type": "code",
   "execution_count": null,
   "id": "backed-antibody",
   "metadata": {},
   "outputs": [],
   "source": []
  }
 ],
 "metadata": {
  "kernelspec": {
   "display_name": "Python [conda env:jads_enexis] *",
   "language": "python",
   "name": "conda-env-jads_enexis-py"
  },
  "language_info": {
   "codemirror_mode": {
    "name": "ipython",
    "version": 3
   },
   "file_extension": ".py",
   "mimetype": "text/x-python",
   "name": "python",
   "nbconvert_exporter": "python",
   "pygments_lexer": "ipython3",
   "version": "3.8.5"
  }
 },
 "nbformat": 4,
 "nbformat_minor": 5
}
